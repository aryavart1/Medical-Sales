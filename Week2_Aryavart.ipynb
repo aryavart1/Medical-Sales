{
  "nbformat": 4,
  "nbformat_minor": 0,
  "metadata": {
    "colab": {
      "name": "Week2_Aryavart.ipynb",
      "provenance": [],
      "collapsed_sections": [
        "gSy3cQUWxInM"
      ]
    },
    "kernelspec": {
      "name": "python3",
      "display_name": "Python 3"
    },
    "language_info": {
      "name": "python"
    }
  },
  "cells": [
    {
      "cell_type": "markdown",
      "metadata": {
        "id": "k4CtlyTSg8gh"
      },
      "source": [
        "1. **Define : Dictionaries, lists, tuples, set with an example**.\n",
        "\n",
        "**a) List :**\n",
        "A data structure that stores an ordered collection of items in Python is called a list. In other words, a list holds a sequence of items. You need to put all the items, separated by commas, in square brackets to let Python know that a list has been specified. The general syntax of a list is:\n",
        "\n",
        "list = [item 1, item 2, item 3,….., item n]\n",
        "eg: a =[1,[2,3],(4,5),(6,7,8)]\n",
        "\n",
        "**b) Tuple :**\n",
        "Tuple is a built-in data structure in Python.The most important difference between a list and a tuple is mutability. Unlike lists, tuples are immutable i.e. they can’t be modified.\n",
        "\n",
        "tuple = (item 1, item 2, item 3,….., item n)\n",
        "eg: colors=('Blue','Green')\n",
        "\n",
        "**c) Dictionary :**\n",
        "It is another type of built-in data structure in Python. It stores data in the form of key-value pairs. The keys defined for a dictionary need to be unique. Though values in a dictionary can be mutable or immutable objects, only immutable objects are allowed for keys.\n",
        "\n",
        "eg: mydict={1:2,2:4,3:6}"
      ]
    },
    {
      "cell_type": "markdown",
      "metadata": {
        "id": "gSy3cQUWxInM"
      },
      "source": [
        "# **Numpy**"
      ]
    },
    {
      "cell_type": "code",
      "metadata": {
        "id": "NTc7DIcoxQx4"
      },
      "source": [
        "import numpy as np"
      ],
      "execution_count": null,
      "outputs": []
    },
    {
      "cell_type": "markdown",
      "metadata": {
        "id": "r-7hErdU_0uO"
      },
      "source": [
        "Q.1) Create an array of 10 fives."
      ]
    },
    {
      "cell_type": "code",
      "metadata": {
        "colab": {
          "base_uri": "https://localhost:8080/"
        },
        "id": "EijZTrilGI7w",
        "outputId": "3499e295-a173-40ba-c04b-6c3f3356db01"
      },
      "source": [
        "a1 = np.full(10,5)\n",
        "print(\"an array of 10 fives:\")\n",
        "print(a1)"
      ],
      "execution_count": null,
      "outputs": [
        {
          "output_type": "stream",
          "text": [
            "an array of 10 fives:\n",
            "[5 5 5 5 5 5 5 5 5 5]\n"
          ],
          "name": "stdout"
        }
      ]
    },
    {
      "cell_type": "markdown",
      "metadata": {
        "id": "fdpGoymh_5A-"
      },
      "source": [
        "Q.2) Create an array of all even integers between 10 to 50."
      ]
    },
    {
      "cell_type": "code",
      "metadata": {
        "colab": {
          "base_uri": "https://localhost:8080/"
        },
        "id": "VqOPlaYaH9pv",
        "outputId": "03b19ac6-be4b-47b6-873f-5bf6eb5049b8"
      },
      "source": [
        "a2 = np.arange(10,51,2)\n",
        "print(\"an array of all the even integers from 10 to 50\")\n",
        "print(a2)"
      ],
      "execution_count": null,
      "outputs": [
        {
          "output_type": "stream",
          "text": [
            "an array of all the even integers from 10 to 50\n",
            "[10 12 14 16 18 20 22 24 26 28 30 32 34 36 38 40 42 44 46 48 50]\n"
          ],
          "name": "stdout"
        }
      ]
    },
    {
      "cell_type": "markdown",
      "metadata": {
        "id": "eHarN_TI_9qW"
      },
      "source": [
        "Q.3) Create a 4 x 4 matrix."
      ]
    },
    {
      "cell_type": "code",
      "metadata": {
        "colab": {
          "base_uri": "https://localhost:8080/"
        },
        "id": "r39oQv-tJC4n",
        "outputId": "b45d275d-7a86-4c0e-fd1a-0c6696981e5d"
      },
      "source": [
        "#Create 4x4 matrix\n",
        " \n",
        "np.eye(4)   #4x4 identity matrix "
      ],
      "execution_count": null,
      "outputs": [
        {
          "output_type": "execute_result",
          "data": {
            "text/plain": [
              "array([[1., 0., 0., 0.],\n",
              "       [0., 1., 0., 0.],\n",
              "       [0., 0., 1., 0.],\n",
              "       [0., 0., 0., 1.]])"
            ]
          },
          "metadata": {
            "tags": []
          },
          "execution_count": 4
        }
      ]
    },
    {
      "cell_type": "code",
      "metadata": {
        "colab": {
          "base_uri": "https://localhost:8080/"
        },
        "id": "9P6K6P1lJZUv",
        "outputId": "87ce8e17-fbed-48e2-a7ce-bd1cc160280b"
      },
      "source": [
        "# A 4x4 matrix with values ranging from 0 to 15\n",
        "\n",
        "np.arange(0,16).reshape(4,4)    "
      ],
      "execution_count": null,
      "outputs": [
        {
          "output_type": "execute_result",
          "data": {
            "text/plain": [
              "array([[ 0,  1,  2,  3],\n",
              "       [ 4,  5,  6,  7],\n",
              "       [ 8,  9, 10, 11],\n",
              "       [12, 13, 14, 15]])"
            ]
          },
          "metadata": {
            "tags": []
          },
          "execution_count": 5
        }
      ]
    },
    {
      "cell_type": "markdown",
      "metadata": {
        "id": "4ix18E0SMPZI"
      },
      "source": [
        "Q4) Use numpy to generate an array of 25 random numbers sampled from a standard normal distribution"
      ]
    },
    {
      "cell_type": "code",
      "metadata": {
        "colab": {
          "base_uri": "https://localhost:8080/"
        },
        "id": "yPK8P6CFKGze",
        "outputId": "518fd66f-8e6d-4e39-a59b-b09abf64c784"
      },
      "source": [
        "import numpy as np\n",
        "rand_num = np.random.normal(0,1,25)\n",
        "print(\"25 random numbers from a standard normal distribution:\")\n",
        "print(rand_num)"
      ],
      "execution_count": null,
      "outputs": [
        {
          "output_type": "stream",
          "text": [
            "25 random numbers from a standard normal distribution:\n",
            "[-1.75559919 -0.52062849  1.22078416  1.63110911 -0.2814357  -0.50988432\n",
            " -0.47256286  1.83752071 -0.96552243  1.77568467 -0.83153577  0.19332682\n",
            " -0.20992373  0.53333379 -0.24616666  0.32371383 -1.00303676  0.54641275\n",
            " -0.15980352 -0.70068224  0.13351589 -1.73377107 -0.52298519 -1.99573303\n",
            "  0.04098471]\n"
          ],
          "name": "stdout"
        }
      ]
    },
    {
      "cell_type": "markdown",
      "metadata": {
        "id": "ODD_R2bOASrU"
      },
      "source": [
        "Q5) 5x5 matrix of values"
      ]
    },
    {
      "cell_type": "code",
      "metadata": {
        "colab": {
          "base_uri": "https://localhost:8080/"
        },
        "id": "sPKhMV-VLEMk",
        "outputId": "d79a6814-2eef-4b41-9657-61dd057ec1bc"
      },
      "source": [
        "  np.arange(1,26).reshape(5,5)"
      ],
      "execution_count": null,
      "outputs": [
        {
          "output_type": "execute_result",
          "data": {
            "text/plain": [
              "array([[ 1,  2,  3,  4,  5],\n",
              "       [ 6,  7,  8,  9, 10],\n",
              "       [11, 12, 13, 14, 15],\n",
              "       [16, 17, 18, 19, 20],\n",
              "       [21, 22, 23, 24, 25]])"
            ]
          },
          "metadata": {
            "tags": []
          },
          "execution_count": 7
        }
      ]
    },
    {
      "cell_type": "markdown",
      "metadata": {
        "id": "uktAuLOBAaSb"
      },
      "source": [
        "Q6) To print the required matrix."
      ]
    },
    {
      "cell_type": "code",
      "metadata": {
        "id": "ZtVmhfQSMuJY",
        "colab": {
          "base_uri": "https://localhost:8080/"
        },
        "outputId": "79929e1d-da0d-4bc7-ff9f-3ffe008ebd43"
      },
      "source": [
        "y = np.arange(1,26).reshape(5,5)\n",
        "y[2:,1:]\n"
      ],
      "execution_count": null,
      "outputs": [
        {
          "output_type": "execute_result",
          "data": {
            "text/plain": [
              "array([[12, 13, 14, 15],\n",
              "       [17, 18, 19, 20],\n",
              "       [22, 23, 24, 25]])"
            ]
          },
          "metadata": {
            "tags": []
          },
          "execution_count": 8
        }
      ]
    },
    {
      "cell_type": "code",
      "metadata": {
        "colab": {
          "base_uri": "https://localhost:8080/"
        },
        "id": "acY_8fhklGnt",
        "outputId": "636cdd3d-f76b-41eb-f1cb-7ec95b421272"
      },
      "source": [
        "#to print the required number from the given  matrix\n",
        "y = np.arange(1,26).reshape(5,5)\n",
        "y[3,4]"
      ],
      "execution_count": null,
      "outputs": [
        {
          "output_type": "execute_result",
          "data": {
            "text/plain": [
              "20"
            ]
          },
          "metadata": {
            "tags": []
          },
          "execution_count": 9
        }
      ]
    },
    {
      "cell_type": "code",
      "metadata": {
        "colab": {
          "base_uri": "https://localhost:8080/"
        },
        "id": "eA81qWr1mruc",
        "outputId": "dc35cf7a-2f22-4e27-87d9-8a287cc1b2c1"
      },
      "source": [
        "#print the required array\n",
        "\n",
        "y = np.arange(1,26).reshape(5,5)\n",
        "y[0:3,1].reshape(3,1)"
      ],
      "execution_count": null,
      "outputs": [
        {
          "output_type": "execute_result",
          "data": {
            "text/plain": [
              "array([[ 2],\n",
              "       [ 7],\n",
              "       [12]])"
            ]
          },
          "metadata": {
            "tags": []
          },
          "execution_count": 10
        }
      ]
    },
    {
      "cell_type": "code",
      "metadata": {
        "colab": {
          "base_uri": "https://localhost:8080/"
        },
        "id": "flm0JDCQm9JC",
        "outputId": "77fddd43-09a2-4c83-ccc9-e9098fcb56aa"
      },
      "source": [
        "#standard deviation of the values in matrix\n",
        "\n",
        "np.std(y)"
      ],
      "execution_count": null,
      "outputs": [
        {
          "output_type": "execute_result",
          "data": {
            "text/plain": [
              "7.211102550927978"
            ]
          },
          "metadata": {
            "tags": []
          },
          "execution_count": 11
        }
      ]
    },
    {
      "cell_type": "code",
      "metadata": {
        "colab": {
          "base_uri": "https://localhost:8080/"
        },
        "id": "L4Rr17kZvk2C",
        "outputId": "4f06c056-8cda-4631-e924-c142acd75993"
      },
      "source": [
        "#the sum of all columns in the matrix\n",
        "\n",
        "y.sum(axis=0)"
      ],
      "execution_count": null,
      "outputs": [
        {
          "output_type": "execute_result",
          "data": {
            "text/plain": [
              "array([55, 60, 65, 70, 75])"
            ]
          },
          "metadata": {
            "tags": []
          },
          "execution_count": 12
        }
      ]
    },
    {
      "cell_type": "markdown",
      "metadata": {
        "id": "WX3je5QexayB"
      },
      "source": [
        "# **Pandas**"
      ]
    },
    {
      "cell_type": "code",
      "metadata": {
        "id": "JGnWA6e1xdQj"
      },
      "source": [
        "import pandas as pd"
      ],
      "execution_count": null,
      "outputs": []
    },
    {
      "cell_type": "code",
      "metadata": {
        "id": "O2Xf-MLlxn6b",
        "colab": {
          "base_uri": "https://localhost:8080/",
          "height": 1000
        },
        "outputId": "227496c8-764b-4cd2-b16c-225dce2d0986"
      },
      "source": [
        "pd.show_versions()\n",
        "pd.__version__"
      ],
      "execution_count": null,
      "outputs": [
        {
          "output_type": "stream",
          "text": [
            "/usr/local/lib/python3.7/dist-packages/psycopg2/__init__.py:144: UserWarning: The psycopg2 wheel package will be renamed from release 2.8; in order to keep installing from binary please use \"pip install psycopg2-binary\" instead. For details see: <http://initd.org/psycopg/docs/install.html#binary-install-from-pypi>.\n",
            "  \"\"\")\n"
          ],
          "name": "stderr"
        },
        {
          "output_type": "stream",
          "text": [
            "\n",
            "INSTALLED VERSIONS\n",
            "------------------\n",
            "commit           : b5958ee1999e9aead1938c0bba2b674378807b3d\n",
            "python           : 3.7.11.final.0\n",
            "python-bits      : 64\n",
            "OS               : Linux\n",
            "OS-release       : 5.4.104+\n",
            "Version          : #1 SMP Sat Jun 5 09:50:34 PDT 2021\n",
            "machine          : x86_64\n",
            "processor        : x86_64\n",
            "byteorder        : little\n",
            "LC_ALL           : None\n",
            "LANG             : en_US.UTF-8\n",
            "LOCALE           : en_US.UTF-8\n",
            "\n",
            "pandas           : 1.1.5\n",
            "numpy            : 1.19.5\n",
            "pytz             : 2018.9\n",
            "dateutil         : 2.8.1\n",
            "pip              : 21.1.3\n",
            "setuptools       : 57.2.0\n",
            "Cython           : 0.29.23\n",
            "pytest           : 3.6.4\n",
            "hypothesis       : None\n",
            "sphinx           : 1.8.5\n",
            "blosc            : None\n",
            "feather          : 0.4.1\n",
            "xlsxwriter       : None\n",
            "lxml.etree       : 4.2.6\n",
            "html5lib         : 1.0.1\n",
            "pymysql          : None\n",
            "psycopg2         : 2.7.6.1 (dt dec pq3 ext lo64)\n",
            "jinja2           : 2.11.3\n",
            "IPython          : 5.5.0\n",
            "pandas_datareader: 0.9.0\n",
            "bs4              : 4.6.3\n",
            "bottleneck       : 1.3.2\n",
            "fsspec           : None\n",
            "fastparquet      : None\n",
            "gcsfs            : None\n",
            "matplotlib       : 3.2.2\n",
            "numexpr          : 2.7.3\n",
            "odfpy            : None\n",
            "openpyxl         : 2.5.9\n",
            "pandas_gbq       : 0.13.3\n",
            "pyarrow          : 3.0.0\n",
            "pytables         : None\n",
            "pyxlsb           : None\n",
            "s3fs             : None\n",
            "scipy            : 1.4.1\n",
            "sqlalchemy       : 1.4.20\n",
            "tables           : 3.4.4\n",
            "tabulate         : 0.8.9\n",
            "xarray           : 0.18.2\n",
            "xlrd             : 1.1.0\n",
            "xlwt             : 1.3.0\n",
            "numba            : 0.51.2\n"
          ],
          "name": "stdout"
        },
        {
          "output_type": "execute_result",
          "data": {
            "application/vnd.google.colaboratory.intrinsic+json": {
              "type": "string"
            },
            "text/plain": [
              "'1.1.5'"
            ]
          },
          "metadata": {
            "tags": []
          },
          "execution_count": 15
        }
      ]
    },
    {
      "cell_type": "code",
      "metadata": {
        "colab": {
          "base_uri": "https://localhost:8080/"
        },
        "id": "997HymA8uW58",
        "outputId": "1f33366b-9ee0-49da-bb59-4ed794676c38"
      },
      "source": [
        "mylist = list('abcedfghijklmnopqrstuvwxyz')\n",
        "myarr = np.arange(26)\n",
        "mydict = dict(zip(mylist, myarr))\n",
        "\n",
        "x  = pd.Series(mylist)\n",
        "y  = pd.Series(mydict)\n",
        "z  = pd.Series(myarr)\n",
        "\n",
        "print(x)\n",
        "print(y)\n",
        "print(z)\n"
      ],
      "execution_count": null,
      "outputs": [
        {
          "output_type": "stream",
          "text": [
            "0     a\n",
            "1     b\n",
            "2     c\n",
            "3     e\n",
            "4     d\n",
            "5     f\n",
            "6     g\n",
            "7     h\n",
            "8     i\n",
            "9     j\n",
            "10    k\n",
            "11    l\n",
            "12    m\n",
            "13    n\n",
            "14    o\n",
            "15    p\n",
            "16    q\n",
            "17    r\n",
            "18    s\n",
            "19    t\n",
            "20    u\n",
            "21    v\n",
            "22    w\n",
            "23    x\n",
            "24    y\n",
            "25    z\n",
            "dtype: object\n",
            "a     0\n",
            "b     1\n",
            "c     2\n",
            "e     3\n",
            "d     4\n",
            "f     5\n",
            "g     6\n",
            "h     7\n",
            "i     8\n",
            "j     9\n",
            "k    10\n",
            "l    11\n",
            "m    12\n",
            "n    13\n",
            "o    14\n",
            "p    15\n",
            "q    16\n",
            "r    17\n",
            "s    18\n",
            "t    19\n",
            "u    20\n",
            "v    21\n",
            "w    22\n",
            "x    23\n",
            "y    24\n",
            "z    25\n",
            "dtype: int64\n",
            "0      0\n",
            "1      1\n",
            "2      2\n",
            "3      3\n",
            "4      4\n",
            "5      5\n",
            "6      6\n",
            "7      7\n",
            "8      8\n",
            "9      9\n",
            "10    10\n",
            "11    11\n",
            "12    12\n",
            "13    13\n",
            "14    14\n",
            "15    15\n",
            "16    16\n",
            "17    17\n",
            "18    18\n",
            "19    19\n",
            "20    20\n",
            "21    21\n",
            "22    22\n",
            "23    23\n",
            "24    24\n",
            "25    25\n",
            "dtype: int64\n"
          ],
          "name": "stdout"
        }
      ]
    },
    {
      "cell_type": "code",
      "metadata": {
        "colab": {
          "base_uri": "https://localhost:8080/",
          "height": 850
        },
        "id": "x4GYicrc2RqC",
        "outputId": "4ab1f9f9-c9ea-4fef-fc1a-81bbf21a6c76"
      },
      "source": [
        "ser1 = pd.Series(list('abcedfghijklmnopqrstuvwxyz'), name = \"alphabets\")\n",
        "ser2 = pd.Series(np.arange(26), name =\"numbers\")\n",
        "df = pd.merge(ser1, ser2, right_index = True, left_index = True)\n",
        "df"
      ],
      "execution_count": null,
      "outputs": [
        {
          "output_type": "execute_result",
          "data": {
            "text/html": [
              "<div>\n",
              "<style scoped>\n",
              "    .dataframe tbody tr th:only-of-type {\n",
              "        vertical-align: middle;\n",
              "    }\n",
              "\n",
              "    .dataframe tbody tr th {\n",
              "        vertical-align: top;\n",
              "    }\n",
              "\n",
              "    .dataframe thead th {\n",
              "        text-align: right;\n",
              "    }\n",
              "</style>\n",
              "<table border=\"1\" class=\"dataframe\">\n",
              "  <thead>\n",
              "    <tr style=\"text-align: right;\">\n",
              "      <th></th>\n",
              "      <th>alphabets</th>\n",
              "      <th>numbers</th>\n",
              "    </tr>\n",
              "  </thead>\n",
              "  <tbody>\n",
              "    <tr>\n",
              "      <th>0</th>\n",
              "      <td>a</td>\n",
              "      <td>0</td>\n",
              "    </tr>\n",
              "    <tr>\n",
              "      <th>1</th>\n",
              "      <td>b</td>\n",
              "      <td>1</td>\n",
              "    </tr>\n",
              "    <tr>\n",
              "      <th>2</th>\n",
              "      <td>c</td>\n",
              "      <td>2</td>\n",
              "    </tr>\n",
              "    <tr>\n",
              "      <th>3</th>\n",
              "      <td>e</td>\n",
              "      <td>3</td>\n",
              "    </tr>\n",
              "    <tr>\n",
              "      <th>4</th>\n",
              "      <td>d</td>\n",
              "      <td>4</td>\n",
              "    </tr>\n",
              "    <tr>\n",
              "      <th>5</th>\n",
              "      <td>f</td>\n",
              "      <td>5</td>\n",
              "    </tr>\n",
              "    <tr>\n",
              "      <th>6</th>\n",
              "      <td>g</td>\n",
              "      <td>6</td>\n",
              "    </tr>\n",
              "    <tr>\n",
              "      <th>7</th>\n",
              "      <td>h</td>\n",
              "      <td>7</td>\n",
              "    </tr>\n",
              "    <tr>\n",
              "      <th>8</th>\n",
              "      <td>i</td>\n",
              "      <td>8</td>\n",
              "    </tr>\n",
              "    <tr>\n",
              "      <th>9</th>\n",
              "      <td>j</td>\n",
              "      <td>9</td>\n",
              "    </tr>\n",
              "    <tr>\n",
              "      <th>10</th>\n",
              "      <td>k</td>\n",
              "      <td>10</td>\n",
              "    </tr>\n",
              "    <tr>\n",
              "      <th>11</th>\n",
              "      <td>l</td>\n",
              "      <td>11</td>\n",
              "    </tr>\n",
              "    <tr>\n",
              "      <th>12</th>\n",
              "      <td>m</td>\n",
              "      <td>12</td>\n",
              "    </tr>\n",
              "    <tr>\n",
              "      <th>13</th>\n",
              "      <td>n</td>\n",
              "      <td>13</td>\n",
              "    </tr>\n",
              "    <tr>\n",
              "      <th>14</th>\n",
              "      <td>o</td>\n",
              "      <td>14</td>\n",
              "    </tr>\n",
              "    <tr>\n",
              "      <th>15</th>\n",
              "      <td>p</td>\n",
              "      <td>15</td>\n",
              "    </tr>\n",
              "    <tr>\n",
              "      <th>16</th>\n",
              "      <td>q</td>\n",
              "      <td>16</td>\n",
              "    </tr>\n",
              "    <tr>\n",
              "      <th>17</th>\n",
              "      <td>r</td>\n",
              "      <td>17</td>\n",
              "    </tr>\n",
              "    <tr>\n",
              "      <th>18</th>\n",
              "      <td>s</td>\n",
              "      <td>18</td>\n",
              "    </tr>\n",
              "    <tr>\n",
              "      <th>19</th>\n",
              "      <td>t</td>\n",
              "      <td>19</td>\n",
              "    </tr>\n",
              "    <tr>\n",
              "      <th>20</th>\n",
              "      <td>u</td>\n",
              "      <td>20</td>\n",
              "    </tr>\n",
              "    <tr>\n",
              "      <th>21</th>\n",
              "      <td>v</td>\n",
              "      <td>21</td>\n",
              "    </tr>\n",
              "    <tr>\n",
              "      <th>22</th>\n",
              "      <td>w</td>\n",
              "      <td>22</td>\n",
              "    </tr>\n",
              "    <tr>\n",
              "      <th>23</th>\n",
              "      <td>x</td>\n",
              "      <td>23</td>\n",
              "    </tr>\n",
              "    <tr>\n",
              "      <th>24</th>\n",
              "      <td>y</td>\n",
              "      <td>24</td>\n",
              "    </tr>\n",
              "    <tr>\n",
              "      <th>25</th>\n",
              "      <td>z</td>\n",
              "      <td>25</td>\n",
              "    </tr>\n",
              "  </tbody>\n",
              "</table>\n",
              "</div>"
            ],
            "text/plain": [
              "   alphabets  numbers\n",
              "0          a        0\n",
              "1          b        1\n",
              "2          c        2\n",
              "3          e        3\n",
              "4          d        4\n",
              "5          f        5\n",
              "6          g        6\n",
              "7          h        7\n",
              "8          i        8\n",
              "9          j        9\n",
              "10         k       10\n",
              "11         l       11\n",
              "12         m       12\n",
              "13         n       13\n",
              "14         o       14\n",
              "15         p       15\n",
              "16         q       16\n",
              "17         r       17\n",
              "18         s       18\n",
              "19         t       19\n",
              "20         u       20\n",
              "21         v       21\n",
              "22         w       22\n",
              "23         x       23\n",
              "24         y       24\n",
              "25         z       25"
            ]
          },
          "metadata": {
            "tags": []
          },
          "execution_count": 17
        }
      ]
    },
    {
      "cell_type": "code",
      "metadata": {
        "colab": {
          "base_uri": "https://localhost:8080/",
          "height": 850
        },
        "id": "HeragQ-k293l",
        "outputId": "ff68a6b8-3dae-45ea-ab03-97a97167c792"
      },
      "source": [
        "ser1 = pd.Series(list('abcedfghijklmnopqrstuvwxyz'), name = \"alphabets\")\n",
        "ser2 = pd.Series(np.arange(26), name =\"numbers\")\n",
        "\n",
        "ser1 = pd.DataFrame(ser1)\n",
        "df = ser1.join(ser2)\n",
        "df"
      ],
      "execution_count": null,
      "outputs": [
        {
          "output_type": "execute_result",
          "data": {
            "text/html": [
              "<div>\n",
              "<style scoped>\n",
              "    .dataframe tbody tr th:only-of-type {\n",
              "        vertical-align: middle;\n",
              "    }\n",
              "\n",
              "    .dataframe tbody tr th {\n",
              "        vertical-align: top;\n",
              "    }\n",
              "\n",
              "    .dataframe thead th {\n",
              "        text-align: right;\n",
              "    }\n",
              "</style>\n",
              "<table border=\"1\" class=\"dataframe\">\n",
              "  <thead>\n",
              "    <tr style=\"text-align: right;\">\n",
              "      <th></th>\n",
              "      <th>alphabets</th>\n",
              "      <th>numbers</th>\n",
              "    </tr>\n",
              "  </thead>\n",
              "  <tbody>\n",
              "    <tr>\n",
              "      <th>0</th>\n",
              "      <td>a</td>\n",
              "      <td>0</td>\n",
              "    </tr>\n",
              "    <tr>\n",
              "      <th>1</th>\n",
              "      <td>b</td>\n",
              "      <td>1</td>\n",
              "    </tr>\n",
              "    <tr>\n",
              "      <th>2</th>\n",
              "      <td>c</td>\n",
              "      <td>2</td>\n",
              "    </tr>\n",
              "    <tr>\n",
              "      <th>3</th>\n",
              "      <td>e</td>\n",
              "      <td>3</td>\n",
              "    </tr>\n",
              "    <tr>\n",
              "      <th>4</th>\n",
              "      <td>d</td>\n",
              "      <td>4</td>\n",
              "    </tr>\n",
              "    <tr>\n",
              "      <th>5</th>\n",
              "      <td>f</td>\n",
              "      <td>5</td>\n",
              "    </tr>\n",
              "    <tr>\n",
              "      <th>6</th>\n",
              "      <td>g</td>\n",
              "      <td>6</td>\n",
              "    </tr>\n",
              "    <tr>\n",
              "      <th>7</th>\n",
              "      <td>h</td>\n",
              "      <td>7</td>\n",
              "    </tr>\n",
              "    <tr>\n",
              "      <th>8</th>\n",
              "      <td>i</td>\n",
              "      <td>8</td>\n",
              "    </tr>\n",
              "    <tr>\n",
              "      <th>9</th>\n",
              "      <td>j</td>\n",
              "      <td>9</td>\n",
              "    </tr>\n",
              "    <tr>\n",
              "      <th>10</th>\n",
              "      <td>k</td>\n",
              "      <td>10</td>\n",
              "    </tr>\n",
              "    <tr>\n",
              "      <th>11</th>\n",
              "      <td>l</td>\n",
              "      <td>11</td>\n",
              "    </tr>\n",
              "    <tr>\n",
              "      <th>12</th>\n",
              "      <td>m</td>\n",
              "      <td>12</td>\n",
              "    </tr>\n",
              "    <tr>\n",
              "      <th>13</th>\n",
              "      <td>n</td>\n",
              "      <td>13</td>\n",
              "    </tr>\n",
              "    <tr>\n",
              "      <th>14</th>\n",
              "      <td>o</td>\n",
              "      <td>14</td>\n",
              "    </tr>\n",
              "    <tr>\n",
              "      <th>15</th>\n",
              "      <td>p</td>\n",
              "      <td>15</td>\n",
              "    </tr>\n",
              "    <tr>\n",
              "      <th>16</th>\n",
              "      <td>q</td>\n",
              "      <td>16</td>\n",
              "    </tr>\n",
              "    <tr>\n",
              "      <th>17</th>\n",
              "      <td>r</td>\n",
              "      <td>17</td>\n",
              "    </tr>\n",
              "    <tr>\n",
              "      <th>18</th>\n",
              "      <td>s</td>\n",
              "      <td>18</td>\n",
              "    </tr>\n",
              "    <tr>\n",
              "      <th>19</th>\n",
              "      <td>t</td>\n",
              "      <td>19</td>\n",
              "    </tr>\n",
              "    <tr>\n",
              "      <th>20</th>\n",
              "      <td>u</td>\n",
              "      <td>20</td>\n",
              "    </tr>\n",
              "    <tr>\n",
              "      <th>21</th>\n",
              "      <td>v</td>\n",
              "      <td>21</td>\n",
              "    </tr>\n",
              "    <tr>\n",
              "      <th>22</th>\n",
              "      <td>w</td>\n",
              "      <td>22</td>\n",
              "    </tr>\n",
              "    <tr>\n",
              "      <th>23</th>\n",
              "      <td>x</td>\n",
              "      <td>23</td>\n",
              "    </tr>\n",
              "    <tr>\n",
              "      <th>24</th>\n",
              "      <td>y</td>\n",
              "      <td>24</td>\n",
              "    </tr>\n",
              "    <tr>\n",
              "      <th>25</th>\n",
              "      <td>z</td>\n",
              "      <td>25</td>\n",
              "    </tr>\n",
              "  </tbody>\n",
              "</table>\n",
              "</div>"
            ],
            "text/plain": [
              "   alphabets  numbers\n",
              "0          a        0\n",
              "1          b        1\n",
              "2          c        2\n",
              "3          e        3\n",
              "4          d        4\n",
              "5          f        5\n",
              "6          g        6\n",
              "7          h        7\n",
              "8          i        8\n",
              "9          j        9\n",
              "10         k       10\n",
              "11         l       11\n",
              "12         m       12\n",
              "13         n       13\n",
              "14         o       14\n",
              "15         p       15\n",
              "16         q       16\n",
              "17         r       17\n",
              "18         s       18\n",
              "19         t       19\n",
              "20         u       20\n",
              "21         v       21\n",
              "22         w       22\n",
              "23         x       23\n",
              "24         y       24\n",
              "25         z       25"
            ]
          },
          "metadata": {
            "tags": []
          },
          "execution_count": 18
        }
      ]
    },
    {
      "cell_type": "code",
      "metadata": {
        "colab": {
          "base_uri": "https://localhost:8080/"
        },
        "id": "QzGPZEAr4m2X",
        "outputId": "7e341f8f-375b-4d70-cc3a-a7dd8b42001d"
      },
      "source": [
        "# import the modules\n",
        "import pandas as pd\n",
        "import numpy as np\n",
        "\n",
        "# create the series\n",
        "ser1 = pd.Series([1, 2, 3, 4, 5])\n",
        "ser2 = pd.Series([4, 5, 6, 7, 8])\n",
        "\n",
        "# union of the series\n",
        "union = pd.Series(np.union1d(ser1, ser2))\n",
        "\n",
        "# intersection of the series\n",
        "intersect = pd.Series(np.intersect1d(ser1, ser2))\n",
        "\n",
        "# uncommon elements in both the series\n",
        "notcommonseries = union[~union.isin(intersect)]\n",
        "\n",
        "# displaying the result\n",
        "print(notcommonseries)\n"
      ],
      "execution_count": null,
      "outputs": [
        {
          "output_type": "stream",
          "text": [
            "0    1\n",
            "1    2\n",
            "2    3\n",
            "5    6\n",
            "6    7\n",
            "7    8\n",
            "dtype: int64\n"
          ],
          "name": "stdout"
        }
      ]
    },
    {
      "cell_type": "markdown",
      "metadata": {
        "id": "gFRh0_umDOy-"
      },
      "source": [
        "4. Get frequency counts of unique items of a series"
      ]
    },
    {
      "cell_type": "code",
      "metadata": {
        "colab": {
          "base_uri": "https://localhost:8080/"
        },
        "id": "zRPljD-L5n0l",
        "outputId": "2ec0e51e-f976-482d-e751-8c8ab6114656"
      },
      "source": [
        "ser = pd.Series(np.take(list('abcdefgh'), np.random.randint(8, size=30)))\n",
        "print(ser.value_counts())"
      ],
      "execution_count": null,
      "outputs": [
        {
          "output_type": "stream",
          "text": [
            "b    6\n",
            "e    5\n",
            "g    5\n",
            "f    5\n",
            "h    4\n",
            "c    2\n",
            "d    2\n",
            "a    1\n",
            "dtype: int64\n"
          ],
          "name": "stdout"
        }
      ]
    },
    {
      "cell_type": "markdown",
      "metadata": {
        "id": "mdQL2gveEBbB"
      },
      "source": [
        "5. Stack two series vertically and horizontally."
      ]
    },
    {
      "cell_type": "code",
      "metadata": {
        "colab": {
          "base_uri": "https://localhost:8080/",
          "height": 203
        },
        "id": "-9QUgg9sEDuM",
        "outputId": "e6076490-fb98-4b2a-9450-cc7adaac8093"
      },
      "source": [
        "#Stacking the series horizontally\n",
        "\n",
        "ser1 = pd.Series(range(5))\n",
        "ser2 = pd.Series(list('abcde'))\n",
        "\n",
        "df = pd.concat([ser1, ser2], axis = 1)\n",
        "df"
      ],
      "execution_count": null,
      "outputs": [
        {
          "output_type": "execute_result",
          "data": {
            "text/html": [
              "<div>\n",
              "<style scoped>\n",
              "    .dataframe tbody tr th:only-of-type {\n",
              "        vertical-align: middle;\n",
              "    }\n",
              "\n",
              "    .dataframe tbody tr th {\n",
              "        vertical-align: top;\n",
              "    }\n",
              "\n",
              "    .dataframe thead th {\n",
              "        text-align: right;\n",
              "    }\n",
              "</style>\n",
              "<table border=\"1\" class=\"dataframe\">\n",
              "  <thead>\n",
              "    <tr style=\"text-align: right;\">\n",
              "      <th></th>\n",
              "      <th>0</th>\n",
              "      <th>1</th>\n",
              "    </tr>\n",
              "  </thead>\n",
              "  <tbody>\n",
              "    <tr>\n",
              "      <th>0</th>\n",
              "      <td>0</td>\n",
              "      <td>a</td>\n",
              "    </tr>\n",
              "    <tr>\n",
              "      <th>1</th>\n",
              "      <td>1</td>\n",
              "      <td>b</td>\n",
              "    </tr>\n",
              "    <tr>\n",
              "      <th>2</th>\n",
              "      <td>2</td>\n",
              "      <td>c</td>\n",
              "    </tr>\n",
              "    <tr>\n",
              "      <th>3</th>\n",
              "      <td>3</td>\n",
              "      <td>d</td>\n",
              "    </tr>\n",
              "    <tr>\n",
              "      <th>4</th>\n",
              "      <td>4</td>\n",
              "      <td>e</td>\n",
              "    </tr>\n",
              "  </tbody>\n",
              "</table>\n",
              "</div>"
            ],
            "text/plain": [
              "   0  1\n",
              "0  0  a\n",
              "1  1  b\n",
              "2  2  c\n",
              "3  3  d\n",
              "4  4  e"
            ]
          },
          "metadata": {
            "tags": []
          },
          "execution_count": 21
        }
      ]
    },
    {
      "cell_type": "code",
      "metadata": {
        "colab": {
          "base_uri": "https://localhost:8080/"
        },
        "id": "iJsOnGfrEdRi",
        "outputId": "0443f7e5-5a91-4bd8-aaf4-5ca50c5ae1eb"
      },
      "source": [
        "#Stacking the series vertically\n",
        "\n",
        "ser1 = pd.Series(range(5))\n",
        "ser2 = pd.Series(list('abcde'))\n",
        "\n",
        "df = pd.concat([ser1, ser2], axis = 0)\n",
        "df"
      ],
      "execution_count": null,
      "outputs": [
        {
          "output_type": "execute_result",
          "data": {
            "text/plain": [
              "0    0\n",
              "1    1\n",
              "2    2\n",
              "3    3\n",
              "4    4\n",
              "0    a\n",
              "1    b\n",
              "2    c\n",
              "3    d\n",
              "4    e\n",
              "dtype: object"
            ]
          },
          "metadata": {
            "tags": []
          },
          "execution_count": 22
        }
      ]
    },
    {
      "cell_type": "markdown",
      "metadata": {
        "id": "8LMQlMstTWeF"
      },
      "source": [
        "6. Convert a series of date-strings to a timeseries"
      ]
    },
    {
      "cell_type": "code",
      "metadata": {
        "id": "MSWg4nZdFree",
        "colab": {
          "base_uri": "https://localhost:8080/"
        },
        "outputId": "b379e894-09b5-4927-b163-031216eca76e"
      },
      "source": [
        "ser = pd.Series(['01 Jan 2010', '02-02-2011', '20120303', '2013/04/04', '2014-05-05','2015-06-06T12:20'])\n",
        "print(pd.to_datetime(ser))"
      ],
      "execution_count": null,
      "outputs": [
        {
          "output_type": "stream",
          "text": [
            "0   2010-01-01 00:00:00\n",
            "1   2011-02-02 00:00:00\n",
            "2   2012-03-03 00:00:00\n",
            "3   2013-04-04 00:00:00\n",
            "4   2014-05-05 00:00:00\n",
            "5   2015-06-06 12:20:00\n",
            "dtype: datetime64[ns]\n"
          ],
          "name": "stdout"
        }
      ]
    },
    {
      "cell_type": "markdown",
      "metadata": {
        "id": "_iWPZ8MtTuau"
      },
      "source": [
        "7. Compute the euclidean distance between two series"
      ]
    },
    {
      "cell_type": "code",
      "metadata": {
        "colab": {
          "base_uri": "https://localhost:8080/"
        },
        "id": "tuYEivFcTy_d",
        "outputId": "86066efd-cbdb-4fbd-bf42-b59bd64fcca8"
      },
      "source": [
        "p = pd.Series([1, 2, 3, 4, 5, 6, 7, 8, 9, 10])\n",
        "q = pd.Series([10, 9, 8, 7, 6, 5, 4, 3, 2, 1])\n",
        "\n",
        "p1 = np.sum([(a * a) for a in p])\n",
        "p2 = np.sum([(b * b) for b in q])\n",
        "\n",
        "# using zip() function to create an\n",
        "# iterator which aggregates elements \n",
        "# from two or more iterables\n",
        "p3 = -1 * np.sum([(2 * a*b) for (a, b) in zip(p, q)])\n",
        "dist = np.sqrt(np.sum(p1 + p2 + p3))\n",
        "print(\"Euclidean distance between two series is:\", dist)\n",
        "\n"
      ],
      "execution_count": null,
      "outputs": [
        {
          "output_type": "stream",
          "text": [
            "Euclidean distance between two series is: 18.16590212458495\n"
          ],
          "name": "stdout"
        }
      ]
    },
    {
      "cell_type": "markdown",
      "metadata": {
        "id": "ZZeMkOQhWeov"
      },
      "source": [
        "8. Import only specific columns from a csv file(first and second)"
      ]
    },
    {
      "cell_type": "code",
      "metadata": {
        "id": "hbL3qgpvpyh3",
        "colab": {
          "resources": {
            "http://localhost:8080/nbextensions/google.colab/files.js": {
              "data": "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",
              "ok": true,
              "headers": [
                [
                  "content-type",
                  "application/javascript"
                ]
              ],
              "status": 200,
              "status_text": ""
            }
          },
          "base_uri": "https://localhost:8080/",
          "height": 73
        },
        "outputId": "1ae1a2cf-1597-43da-8d5d-2b54674c4210"
      },
      "source": [
        "from google.colab import files\n",
        "uploaded = files.upload()"
      ],
      "execution_count": null,
      "outputs": [
        {
          "output_type": "display_data",
          "data": {
            "text/html": [
              "\n",
              "     <input type=\"file\" id=\"files-a10cfa21-8a49-4041-9316-687aa41d34d2\" name=\"files[]\" multiple disabled\n",
              "        style=\"border:none\" />\n",
              "     <output id=\"result-a10cfa21-8a49-4041-9316-687aa41d34d2\">\n",
              "      Upload widget is only available when the cell has been executed in the\n",
              "      current browser session. Please rerun this cell to enable.\n",
              "      </output>\n",
              "      <script src=\"/nbextensions/google.colab/files.js\"></script> "
            ],
            "text/plain": [
              "<IPython.core.display.HTML object>"
            ]
          },
          "metadata": {
            "tags": []
          }
        },
        {
          "output_type": "stream",
          "text": [
            "Saving company_sales_data.csv to company_sales_data (1).csv\n"
          ],
          "name": "stdout"
        }
      ]
    },
    {
      "cell_type": "markdown",
      "metadata": {
        "id": "I_Kaav0pg59b"
      },
      "source": [
        ""
      ]
    },
    {
      "cell_type": "code",
      "metadata": {
        "id": "ZXvzzy6Ssv05"
      },
      "source": [
        "data = pd.read_csv(\"company_sales_data.csv\")"
      ],
      "execution_count": null,
      "outputs": []
    },
    {
      "cell_type": "code",
      "metadata": {
        "id": "lBxfJ-KpDetD",
        "colab": {
          "base_uri": "https://localhost:8080/",
          "height": 203
        },
        "outputId": "18f65e0b-07b3-4588-a8ff-59ff617f7f0d"
      },
      "source": [
        "data.head()"
      ],
      "execution_count": null,
      "outputs": [
        {
          "output_type": "execute_result",
          "data": {
            "text/html": [
              "<div>\n",
              "<style scoped>\n",
              "    .dataframe tbody tr th:only-of-type {\n",
              "        vertical-align: middle;\n",
              "    }\n",
              "\n",
              "    .dataframe tbody tr th {\n",
              "        vertical-align: top;\n",
              "    }\n",
              "\n",
              "    .dataframe thead th {\n",
              "        text-align: right;\n",
              "    }\n",
              "</style>\n",
              "<table border=\"1\" class=\"dataframe\">\n",
              "  <thead>\n",
              "    <tr style=\"text-align: right;\">\n",
              "      <th></th>\n",
              "      <th>month_number</th>\n",
              "      <th>facecream</th>\n",
              "      <th>facewash</th>\n",
              "      <th>toothpaste</th>\n",
              "      <th>bathingsoap</th>\n",
              "      <th>shampoo</th>\n",
              "      <th>moisturizer</th>\n",
              "      <th>total_units</th>\n",
              "      <th>total_profit</th>\n",
              "    </tr>\n",
              "  </thead>\n",
              "  <tbody>\n",
              "    <tr>\n",
              "      <th>0</th>\n",
              "      <td>1</td>\n",
              "      <td>2500</td>\n",
              "      <td>1500</td>\n",
              "      <td>5200</td>\n",
              "      <td>9200</td>\n",
              "      <td>1200</td>\n",
              "      <td>1500</td>\n",
              "      <td>21100</td>\n",
              "      <td>211000</td>\n",
              "    </tr>\n",
              "    <tr>\n",
              "      <th>1</th>\n",
              "      <td>2</td>\n",
              "      <td>2630</td>\n",
              "      <td>1200</td>\n",
              "      <td>5100</td>\n",
              "      <td>6100</td>\n",
              "      <td>2100</td>\n",
              "      <td>1200</td>\n",
              "      <td>18330</td>\n",
              "      <td>183300</td>\n",
              "    </tr>\n",
              "    <tr>\n",
              "      <th>2</th>\n",
              "      <td>3</td>\n",
              "      <td>2140</td>\n",
              "      <td>1340</td>\n",
              "      <td>4550</td>\n",
              "      <td>9550</td>\n",
              "      <td>3550</td>\n",
              "      <td>1340</td>\n",
              "      <td>22470</td>\n",
              "      <td>224700</td>\n",
              "    </tr>\n",
              "    <tr>\n",
              "      <th>3</th>\n",
              "      <td>4</td>\n",
              "      <td>3400</td>\n",
              "      <td>1130</td>\n",
              "      <td>5870</td>\n",
              "      <td>8870</td>\n",
              "      <td>1870</td>\n",
              "      <td>1130</td>\n",
              "      <td>22270</td>\n",
              "      <td>222700</td>\n",
              "    </tr>\n",
              "    <tr>\n",
              "      <th>4</th>\n",
              "      <td>5</td>\n",
              "      <td>3600</td>\n",
              "      <td>1740</td>\n",
              "      <td>4560</td>\n",
              "      <td>7760</td>\n",
              "      <td>1560</td>\n",
              "      <td>1740</td>\n",
              "      <td>20960</td>\n",
              "      <td>209600</td>\n",
              "    </tr>\n",
              "  </tbody>\n",
              "</table>\n",
              "</div>"
            ],
            "text/plain": [
              "   month_number  facecream  facewash  ...  moisturizer  total_units  total_profit\n",
              "0             1       2500      1500  ...         1500        21100        211000\n",
              "1             2       2630      1200  ...         1200        18330        183300\n",
              "2             3       2140      1340  ...         1340        22470        224700\n",
              "3             4       3400      1130  ...         1130        22270        222700\n",
              "4             5       3600      1740  ...         1740        20960        209600\n",
              "\n",
              "[5 rows x 9 columns]"
            ]
          },
          "metadata": {
            "tags": []
          },
          "execution_count": 31
        }
      ]
    },
    {
      "cell_type": "code",
      "metadata": {
        "id": "hIpHS3OcDwbp"
      },
      "source": [
        "df = pd.read_csv(\"company_sales_data.csv\", usecols = ['month_number','facecream'])"
      ],
      "execution_count": null,
      "outputs": []
    },
    {
      "cell_type": "code",
      "metadata": {
        "id": "k90_ifk5EEi5",
        "colab": {
          "base_uri": "https://localhost:8080/",
          "height": 418
        },
        "outputId": "6dbc0e1b-8552-49fc-984b-4f8c4a1170a2"
      },
      "source": [
        "df"
      ],
      "execution_count": null,
      "outputs": [
        {
          "output_type": "execute_result",
          "data": {
            "text/html": [
              "<div>\n",
              "<style scoped>\n",
              "    .dataframe tbody tr th:only-of-type {\n",
              "        vertical-align: middle;\n",
              "    }\n",
              "\n",
              "    .dataframe tbody tr th {\n",
              "        vertical-align: top;\n",
              "    }\n",
              "\n",
              "    .dataframe thead th {\n",
              "        text-align: right;\n",
              "    }\n",
              "</style>\n",
              "<table border=\"1\" class=\"dataframe\">\n",
              "  <thead>\n",
              "    <tr style=\"text-align: right;\">\n",
              "      <th></th>\n",
              "      <th>month_number</th>\n",
              "      <th>facecream</th>\n",
              "    </tr>\n",
              "  </thead>\n",
              "  <tbody>\n",
              "    <tr>\n",
              "      <th>0</th>\n",
              "      <td>1</td>\n",
              "      <td>2500</td>\n",
              "    </tr>\n",
              "    <tr>\n",
              "      <th>1</th>\n",
              "      <td>2</td>\n",
              "      <td>2630</td>\n",
              "    </tr>\n",
              "    <tr>\n",
              "      <th>2</th>\n",
              "      <td>3</td>\n",
              "      <td>2140</td>\n",
              "    </tr>\n",
              "    <tr>\n",
              "      <th>3</th>\n",
              "      <td>4</td>\n",
              "      <td>3400</td>\n",
              "    </tr>\n",
              "    <tr>\n",
              "      <th>4</th>\n",
              "      <td>5</td>\n",
              "      <td>3600</td>\n",
              "    </tr>\n",
              "    <tr>\n",
              "      <th>5</th>\n",
              "      <td>6</td>\n",
              "      <td>2760</td>\n",
              "    </tr>\n",
              "    <tr>\n",
              "      <th>6</th>\n",
              "      <td>7</td>\n",
              "      <td>2980</td>\n",
              "    </tr>\n",
              "    <tr>\n",
              "      <th>7</th>\n",
              "      <td>8</td>\n",
              "      <td>3700</td>\n",
              "    </tr>\n",
              "    <tr>\n",
              "      <th>8</th>\n",
              "      <td>9</td>\n",
              "      <td>3540</td>\n",
              "    </tr>\n",
              "    <tr>\n",
              "      <th>9</th>\n",
              "      <td>10</td>\n",
              "      <td>1990</td>\n",
              "    </tr>\n",
              "    <tr>\n",
              "      <th>10</th>\n",
              "      <td>11</td>\n",
              "      <td>2340</td>\n",
              "    </tr>\n",
              "    <tr>\n",
              "      <th>11</th>\n",
              "      <td>12</td>\n",
              "      <td>2900</td>\n",
              "    </tr>\n",
              "  </tbody>\n",
              "</table>\n",
              "</div>"
            ],
            "text/plain": [
              "    month_number  facecream\n",
              "0              1       2500\n",
              "1              2       2630\n",
              "2              3       2140\n",
              "3              4       3400\n",
              "4              5       3600\n",
              "5              6       2760\n",
              "6              7       2980\n",
              "7              8       3700\n",
              "8              9       3540\n",
              "9             10       1990\n",
              "10            11       2340\n",
              "11            12       2900"
            ]
          },
          "metadata": {
            "tags": []
          },
          "execution_count": 33
        }
      ]
    },
    {
      "cell_type": "markdown",
      "metadata": {
        "id": "N7bM4eQRGAqQ"
      },
      "source": [
        "9. Use iloc(2 columns and 10 rows(any))"
      ]
    },
    {
      "cell_type": "code",
      "metadata": {
        "colab": {
          "base_uri": "https://localhost:8080/",
          "height": 357
        },
        "id": "VcYyNv0PEFmI",
        "outputId": "c62726c3-50b0-4abd-9ff8-e923e5539adb"
      },
      "source": [
        "data.iloc[0:10, 0:2]"
      ],
      "execution_count": null,
      "outputs": [
        {
          "output_type": "execute_result",
          "data": {
            "text/html": [
              "<div>\n",
              "<style scoped>\n",
              "    .dataframe tbody tr th:only-of-type {\n",
              "        vertical-align: middle;\n",
              "    }\n",
              "\n",
              "    .dataframe tbody tr th {\n",
              "        vertical-align: top;\n",
              "    }\n",
              "\n",
              "    .dataframe thead th {\n",
              "        text-align: right;\n",
              "    }\n",
              "</style>\n",
              "<table border=\"1\" class=\"dataframe\">\n",
              "  <thead>\n",
              "    <tr style=\"text-align: right;\">\n",
              "      <th></th>\n",
              "      <th>month_number</th>\n",
              "      <th>facecream</th>\n",
              "    </tr>\n",
              "  </thead>\n",
              "  <tbody>\n",
              "    <tr>\n",
              "      <th>0</th>\n",
              "      <td>1</td>\n",
              "      <td>2500</td>\n",
              "    </tr>\n",
              "    <tr>\n",
              "      <th>1</th>\n",
              "      <td>2</td>\n",
              "      <td>2630</td>\n",
              "    </tr>\n",
              "    <tr>\n",
              "      <th>2</th>\n",
              "      <td>3</td>\n",
              "      <td>2140</td>\n",
              "    </tr>\n",
              "    <tr>\n",
              "      <th>3</th>\n",
              "      <td>4</td>\n",
              "      <td>3400</td>\n",
              "    </tr>\n",
              "    <tr>\n",
              "      <th>4</th>\n",
              "      <td>5</td>\n",
              "      <td>3600</td>\n",
              "    </tr>\n",
              "    <tr>\n",
              "      <th>5</th>\n",
              "      <td>6</td>\n",
              "      <td>2760</td>\n",
              "    </tr>\n",
              "    <tr>\n",
              "      <th>6</th>\n",
              "      <td>7</td>\n",
              "      <td>2980</td>\n",
              "    </tr>\n",
              "    <tr>\n",
              "      <th>7</th>\n",
              "      <td>8</td>\n",
              "      <td>3700</td>\n",
              "    </tr>\n",
              "    <tr>\n",
              "      <th>8</th>\n",
              "      <td>9</td>\n",
              "      <td>3540</td>\n",
              "    </tr>\n",
              "    <tr>\n",
              "      <th>9</th>\n",
              "      <td>10</td>\n",
              "      <td>1990</td>\n",
              "    </tr>\n",
              "  </tbody>\n",
              "</table>\n",
              "</div>"
            ],
            "text/plain": [
              "   month_number  facecream\n",
              "0             1       2500\n",
              "1             2       2630\n",
              "2             3       2140\n",
              "3             4       3400\n",
              "4             5       3600\n",
              "5             6       2760\n",
              "6             7       2980\n",
              "7             8       3700\n",
              "8             9       3540\n",
              "9            10       1990"
            ]
          },
          "metadata": {
            "tags": []
          },
          "execution_count": 34
        }
      ]
    },
    {
      "cell_type": "markdown",
      "metadata": {
        "id": "IDUYHSvCHn9u"
      },
      "source": [
        "9. Checking null values"
      ]
    },
    {
      "cell_type": "code",
      "metadata": {
        "colab": {
          "base_uri": "https://localhost:8080/",
          "height": 418
        },
        "id": "xEgrQOoJF_Zo",
        "outputId": "e96d0167-cc43-47ea-a69f-d5597d3145d6"
      },
      "source": [
        "data.isnull()"
      ],
      "execution_count": null,
      "outputs": [
        {
          "output_type": "execute_result",
          "data": {
            "text/html": [
              "<div>\n",
              "<style scoped>\n",
              "    .dataframe tbody tr th:only-of-type {\n",
              "        vertical-align: middle;\n",
              "    }\n",
              "\n",
              "    .dataframe tbody tr th {\n",
              "        vertical-align: top;\n",
              "    }\n",
              "\n",
              "    .dataframe thead th {\n",
              "        text-align: right;\n",
              "    }\n",
              "</style>\n",
              "<table border=\"1\" class=\"dataframe\">\n",
              "  <thead>\n",
              "    <tr style=\"text-align: right;\">\n",
              "      <th></th>\n",
              "      <th>month_number</th>\n",
              "      <th>facecream</th>\n",
              "      <th>facewash</th>\n",
              "      <th>toothpaste</th>\n",
              "      <th>bathingsoap</th>\n",
              "      <th>shampoo</th>\n",
              "      <th>moisturizer</th>\n",
              "      <th>total_units</th>\n",
              "      <th>total_profit</th>\n",
              "    </tr>\n",
              "  </thead>\n",
              "  <tbody>\n",
              "    <tr>\n",
              "      <th>0</th>\n",
              "      <td>False</td>\n",
              "      <td>False</td>\n",
              "      <td>False</td>\n",
              "      <td>False</td>\n",
              "      <td>False</td>\n",
              "      <td>False</td>\n",
              "      <td>False</td>\n",
              "      <td>False</td>\n",
              "      <td>False</td>\n",
              "    </tr>\n",
              "    <tr>\n",
              "      <th>1</th>\n",
              "      <td>False</td>\n",
              "      <td>False</td>\n",
              "      <td>False</td>\n",
              "      <td>False</td>\n",
              "      <td>False</td>\n",
              "      <td>False</td>\n",
              "      <td>False</td>\n",
              "      <td>False</td>\n",
              "      <td>False</td>\n",
              "    </tr>\n",
              "    <tr>\n",
              "      <th>2</th>\n",
              "      <td>False</td>\n",
              "      <td>False</td>\n",
              "      <td>False</td>\n",
              "      <td>False</td>\n",
              "      <td>False</td>\n",
              "      <td>False</td>\n",
              "      <td>False</td>\n",
              "      <td>False</td>\n",
              "      <td>False</td>\n",
              "    </tr>\n",
              "    <tr>\n",
              "      <th>3</th>\n",
              "      <td>False</td>\n",
              "      <td>False</td>\n",
              "      <td>False</td>\n",
              "      <td>False</td>\n",
              "      <td>False</td>\n",
              "      <td>False</td>\n",
              "      <td>False</td>\n",
              "      <td>False</td>\n",
              "      <td>False</td>\n",
              "    </tr>\n",
              "    <tr>\n",
              "      <th>4</th>\n",
              "      <td>False</td>\n",
              "      <td>False</td>\n",
              "      <td>False</td>\n",
              "      <td>False</td>\n",
              "      <td>False</td>\n",
              "      <td>False</td>\n",
              "      <td>False</td>\n",
              "      <td>False</td>\n",
              "      <td>False</td>\n",
              "    </tr>\n",
              "    <tr>\n",
              "      <th>5</th>\n",
              "      <td>False</td>\n",
              "      <td>False</td>\n",
              "      <td>False</td>\n",
              "      <td>False</td>\n",
              "      <td>False</td>\n",
              "      <td>False</td>\n",
              "      <td>False</td>\n",
              "      <td>False</td>\n",
              "      <td>False</td>\n",
              "    </tr>\n",
              "    <tr>\n",
              "      <th>6</th>\n",
              "      <td>False</td>\n",
              "      <td>False</td>\n",
              "      <td>False</td>\n",
              "      <td>False</td>\n",
              "      <td>False</td>\n",
              "      <td>False</td>\n",
              "      <td>False</td>\n",
              "      <td>False</td>\n",
              "      <td>False</td>\n",
              "    </tr>\n",
              "    <tr>\n",
              "      <th>7</th>\n",
              "      <td>False</td>\n",
              "      <td>False</td>\n",
              "      <td>False</td>\n",
              "      <td>False</td>\n",
              "      <td>False</td>\n",
              "      <td>False</td>\n",
              "      <td>False</td>\n",
              "      <td>False</td>\n",
              "      <td>False</td>\n",
              "    </tr>\n",
              "    <tr>\n",
              "      <th>8</th>\n",
              "      <td>False</td>\n",
              "      <td>False</td>\n",
              "      <td>False</td>\n",
              "      <td>False</td>\n",
              "      <td>False</td>\n",
              "      <td>False</td>\n",
              "      <td>False</td>\n",
              "      <td>False</td>\n",
              "      <td>False</td>\n",
              "    </tr>\n",
              "    <tr>\n",
              "      <th>9</th>\n",
              "      <td>False</td>\n",
              "      <td>False</td>\n",
              "      <td>False</td>\n",
              "      <td>False</td>\n",
              "      <td>False</td>\n",
              "      <td>False</td>\n",
              "      <td>False</td>\n",
              "      <td>False</td>\n",
              "      <td>False</td>\n",
              "    </tr>\n",
              "    <tr>\n",
              "      <th>10</th>\n",
              "      <td>False</td>\n",
              "      <td>False</td>\n",
              "      <td>False</td>\n",
              "      <td>False</td>\n",
              "      <td>False</td>\n",
              "      <td>False</td>\n",
              "      <td>False</td>\n",
              "      <td>False</td>\n",
              "      <td>False</td>\n",
              "    </tr>\n",
              "    <tr>\n",
              "      <th>11</th>\n",
              "      <td>False</td>\n",
              "      <td>False</td>\n",
              "      <td>False</td>\n",
              "      <td>False</td>\n",
              "      <td>False</td>\n",
              "      <td>False</td>\n",
              "      <td>False</td>\n",
              "      <td>False</td>\n",
              "      <td>False</td>\n",
              "    </tr>\n",
              "  </tbody>\n",
              "</table>\n",
              "</div>"
            ],
            "text/plain": [
              "    month_number  facecream  facewash  ...  moisturizer  total_units  total_profit\n",
              "0          False      False     False  ...        False        False         False\n",
              "1          False      False     False  ...        False        False         False\n",
              "2          False      False     False  ...        False        False         False\n",
              "3          False      False     False  ...        False        False         False\n",
              "4          False      False     False  ...        False        False         False\n",
              "5          False      False     False  ...        False        False         False\n",
              "6          False      False     False  ...        False        False         False\n",
              "7          False      False     False  ...        False        False         False\n",
              "8          False      False     False  ...        False        False         False\n",
              "9          False      False     False  ...        False        False         False\n",
              "10         False      False     False  ...        False        False         False\n",
              "11         False      False     False  ...        False        False         False\n",
              "\n",
              "[12 rows x 9 columns]"
            ]
          },
          "metadata": {
            "tags": []
          },
          "execution_count": 35
        }
      ]
    },
    {
      "cell_type": "markdown",
      "metadata": {
        "id": "tICF0NDIHkYa"
      },
      "source": [
        "10. Read and print the first and last five rows of the dataframe"
      ]
    },
    {
      "cell_type": "code",
      "metadata": {
        "colab": {
          "base_uri": "https://localhost:8080/"
        },
        "id": "J79CoiuPG3dD",
        "outputId": "a2c31b0b-ac24-4d58-ff26-ef8b5d33305e"
      },
      "source": [
        "df1 = print(data[:5])\n",
        "df2 = print(data[-5:])\n",
        "\n"
      ],
      "execution_count": null,
      "outputs": [
        {
          "output_type": "stream",
          "text": [
            "   month_number  facecream  facewash  ...  moisturizer  total_units  total_profit\n",
            "0             1       2500      1500  ...         1500        21100        211000\n",
            "1             2       2630      1200  ...         1200        18330        183300\n",
            "2             3       2140      1340  ...         1340        22470        224700\n",
            "3             4       3400      1130  ...         1130        22270        222700\n",
            "4             5       3600      1740  ...         1740        20960        209600\n",
            "\n",
            "[5 rows x 9 columns]\n",
            "    month_number  facecream  facewash  ...  moisturizer  total_units  total_profit\n",
            "7              8       3700      1400  ...         1400        36140        361400\n",
            "8              9       3540      1780  ...         1780        23400        234000\n",
            "9             10       1990      1890  ...         1890        26670        266700\n",
            "10            11       2340      2100  ...         2100        41280        412800\n",
            "11            12       2900      1760  ...         1760        30020        300200\n",
            "\n",
            "[5 rows x 9 columns]\n"
          ],
          "name": "stdout"
        }
      ]
    },
    {
      "cell_type": "markdown",
      "metadata": {
        "id": "-ELE0gX0KFzk"
      },
      "source": [
        "**Seaborn**"
      ]
    },
    {
      "cell_type": "markdown",
      "metadata": {
        "id": "fRxaWkotoNd-"
      },
      "source": [
        "Q.1) Plot Jointplot and visualise the data."
      ]
    },
    {
      "cell_type": "code",
      "metadata": {
        "id": "efXGobz1KH1L"
      },
      "source": [
        "  import seaborn as sns"
      ],
      "execution_count": null,
      "outputs": []
    },
    {
      "cell_type": "code",
      "metadata": {
        "id": "3lT_RGeZKTsc",
        "colab": {
          "base_uri": "https://localhost:8080/",
          "height": 490
        },
        "outputId": "d1fe56eb-3968-48e0-ce23-31b63c438917"
      },
      "source": [
        "with sns.axes_style('white'):\n",
        "    sns.jointplot(\"facecream\", \"facewash\", data, kind='scatter')"
      ],
      "execution_count": null,
      "outputs": [
        {
          "output_type": "stream",
          "text": [
            "/usr/local/lib/python3.7/dist-packages/seaborn/_decorators.py:43: FutureWarning: Pass the following variables as keyword args: x, y, data. From version 0.12, the only valid positional argument will be `data`, and passing other arguments without an explicit keyword will result in an error or misinterpretation.\n",
            "  FutureWarning\n"
          ],
          "name": "stderr"
        },
        {
          "output_type": "display_data",
          "data": {
            "image/png": "[encoded data removed]",
            "text/plain": [
              "<Figure size 432x432 with 3 Axes>"
            ]
          },
          "metadata": {
            "tags": []
          }
        }
      ]
    },
    {
      "cell_type": "markdown",
      "metadata": {
        "id": "6wBPsFaqoUvX"
      },
      "source": [
        "Q.2) Plot Distplot , make kde to false and make bins to 30."
      ]
    },
    {
      "cell_type": "code",
      "metadata": {
        "colab": {
          "base_uri": "https://localhost:8080/",
          "height": 355
        },
        "id": "UjbUdvJ1nDTO",
        "outputId": "f55d4e58-ea94-4926-97b5-d48689573bb6"
      },
      "source": [
        "\n",
        "sns.distplot(data['facecream'], kde = False, bins = 30)"
      ],
      "execution_count": null,
      "outputs": [
        {
          "output_type": "stream",
          "text": [
            "/usr/local/lib/python3.7/dist-packages/seaborn/distributions.py:2557: FutureWarning: `distplot` is a deprecated function and will be removed in a future version. Please adapt your code to use either `displot` (a figure-level function with similar flexibility) or `histplot` (an axes-level function for histograms).\n",
            "  warnings.warn(msg, FutureWarning)\n"
          ],
          "name": "stderr"
        },
        {
          "output_type": "execute_result",
          "data": {
            "text/plain": [
              "<matplotlib.axes._subplots.AxesSubplot at 0x7f09b28dc4d0>"
            ]
          },
          "metadata": {
            "tags": []
          },
          "execution_count": 39
        },
        {
          "output_type": "display_data",
          "data": {
            "image/png": "[encoded data removed]",
            "text/plain": [
              "<Figure size 432x288 with 1 Axes>"
            ]
          },
          "metadata": {
            "tags": []
          }
        }
      ]
    },
    {
      "cell_type": "markdown",
      "metadata": {
        "id": "VeW3xFsyqKBY"
      },
      "source": [
        "Q.3) Plot Scatterplot , try adding hue in it."
      ]
    },
    {
      "cell_type": "code",
      "metadata": {
        "colab": {
          "base_uri": "https://localhost:8080/",
          "height": 302
        },
        "id": "73IqpS1vpNNj",
        "outputId": "c5a24af3-740c-465d-d053-6f0cf85a7110"
      },
      "source": [
        "sns.scatterplot(x='facecream',y='facewash',hue='month_number', data=data)"
      ],
      "execution_count": null,
      "outputs": [
        {
          "output_type": "execute_result",
          "data": {
            "text/plain": [
              "<matplotlib.axes._subplots.AxesSubplot at 0x7f09b2388410>"
            ]
          },
          "metadata": {
            "tags": []
          },
          "execution_count": 40
        },
        {
          "output_type": "display_data",
          "data": {
            "image/png": "[encoded data removed]",
            "text/plain": [
              "<Figure size 432x288 with 1 Axes>"
            ]
          },
          "metadata": {
            "tags": []
          }
        }
      ]
    },
    {
      "cell_type": "markdown",
      "metadata": {
        "id": "1u5qUQ-9r_gP"
      },
      "source": [
        "Q.4) Plot swarmplot and change color palette to ‘VIBGYOR’."
      ]
    },
    {
      "cell_type": "code",
      "metadata": {
        "colab": {
          "base_uri": "https://localhost:8080/",
          "height": 285
        },
        "id": "KbdEydvBrlCC",
        "outputId": "19d725f2-5080-433e-e478-c8728826b35e"
      },
      "source": [
        "sns.set_theme(style=\"whitegrid\")\n",
        "sns.color_palette(\"bright\")\n",
        "\n",
        "ax = sns.swarmplot(x=\"month_number\", y=\"facewash\" , data=data)"
      ],
      "execution_count": null,
      "outputs": [
        {
          "output_type": "display_data",
          "data": {
            "image/png": "[encoded data removed]",
            "text/plain": [
              "<Figure size 432x288 with 1 Axes>"
            ]
          },
          "metadata": {
            "tags": []
          }
        }
      ]
    },
    {
      "cell_type": "markdown",
      "metadata": {
        "id": "fBujuDX704P5"
      },
      "source": [
        "Q.5) Plot countplot and use hue parameter in it."
      ]
    },
    {
      "cell_type": "code",
      "metadata": {
        "colab": {
          "base_uri": "https://localhost:8080/",
          "height": 285
        },
        "id": "jhrCXH6kssaD",
        "outputId": "1684776d-ba14-4891-b150-98160e1f7256"
      },
      "source": [
        "f1 = sns.countplot(x=\"facecream\", hue=\"month_number\", data=data)\n"
      ],
      "execution_count": null,
      "outputs": [
        {
          "output_type": "display_data",
          "data": {
            "image/png": "[encoded data removed]",
            "text/plain": [
              "<Figure size 432x288 with 1 Axes>"
            ]
          },
          "metadata": {
            "tags": []
          }
        }
      ]
    },
    {
      "cell_type": "markdown",
      "metadata": {
        "id": "5hZMDXRh238H"
      },
      "source": [
        "Q.6) Correlate the data and plot Heatmap on it and change its color scale to any you like."
      ]
    },
    {
      "cell_type": "code",
      "metadata": {
        "colab": {
          "base_uri": "https://localhost:8080/",
          "height": 346
        },
        "id": "MvJ-h3CZ2Xa1",
        "outputId": "6d57e2c3-983b-4992-dea5-44b6085f5190"
      },
      "source": [
        " ax = sns.heatmap(\n",
        "    data.corr(), \n",
        "    vmin=-1, vmax=1, center=0,\n",
        "    cmap=sns.diverging_palette(20, 220, n=200),\n",
        "    square=True\n",
        ")"
      ],
      "execution_count": null,
      "outputs": [
        {
          "output_type": "display_data",
          "data": {
            "image/png": "[encoded data removed]",
            "text/plain": [
              "<Figure size 432x288 with 2 Axes>"
            ]
          },
          "metadata": {
            "tags": []
          }
        }
      ]
    },
    {
      "cell_type": "markdown",
      "metadata": {
        "id": "-OQYJFFi2sTc"
      },
      "source": [
        "Q.7) Plot a facetgrid and use hue in it. "
      ]
    },
    {
      "cell_type": "code",
      "metadata": {
        "colab": {
          "base_uri": "https://localhost:8080/",
          "height": 148
        },
        "id": "IbhOadr759tq",
        "outputId": "e5ad8290-f553-4329-db96-e223802df22d"
      },
      "source": [
        "import matplotlib.pyplot as plt \n",
        "g = sns.FacetGrid(data, col='month_number', hue='shampoo', height=5)\n",
        "g.map(plt.scatter, \"facewash\", \"facecream\")"
      ],
      "execution_count": null,
      "outputs": [
        {
          "output_type": "execute_result",
          "data": {
            "text/plain": [
              "<seaborn.axisgrid.FacetGrid at 0x7f90493b2d10>"
            ]
          },
          "metadata": {
            "tags": []
          },
          "execution_count": 41
        },
        {
          "output_type": "display_data",
          "data": {
            "image/png": "[encoded data removed]",
            "text/plain": [
              "<Figure size 4320x360 with 12 Axes>"
            ]
          },
          "metadata": {
            "tags": []
          }
        }
      ]
    },
    {
      "cell_type": "markdown",
      "metadata": {
        "id": "7JCqDHy5_fzC"
      },
      "source": [
        "Q.8) Plot a pairplot."
      ]
    },
    {
      "cell_type": "code",
      "metadata": {
        "colab": {
          "base_uri": "https://localhost:8080/",
          "height": 565
        },
        "id": "zyt1jY51-4Y4",
        "outputId": "65de7b79-aeeb-4f15-ef7f-294e1bb673b3"
      },
      "source": [
        "df = sns.load_dataset('tips')\n",
        "sns.pairplot(df, hue ='day')\n",
        "\n",
        "  "
      ],
      "execution_count": null,
      "outputs": [
        {
          "output_type": "execute_result",
          "data": {
            "text/plain": [
              "<seaborn.axisgrid.PairGrid at 0x7f9049221d10>"
            ]
          },
          "metadata": {
            "tags": []
          },
          "execution_count": 55
        },
        {
          "output_type": "display_data",
          "data": {
            "image/png": "[encoded data removed]",
            "text/plain": [
              "<Figure size 604.85x540 with 12 Axes>"
            ]
          },
          "metadata": {
            "tags": []
          }
        }
      ]
    },
    {
      "cell_type": "markdown",
      "metadata": {
        "id": "KmHWi1FOFSjM"
      },
      "source": [
        "## **Matplotlib**"
      ]
    },
    {
      "cell_type": "markdown",
      "metadata": {
        "id": "Jghqn5QqdXLv"
      },
      "source": [
        "1. Show the relationship between Total proﬁt and no. of month using Line Plot."
      ]
    },
    {
      "cell_type": "code",
      "metadata": {
        "id": "iezYKbMpdj_A"
      },
      "source": [
        "import matplotlib.pyplot as plt "
      ],
      "execution_count": null,
      "outputs": []
    },
    {
      "cell_type": "code",
      "metadata": {
        "id": "VNu5ICI1Au8h",
        "colab": {
          "base_uri": "https://localhost:8080/",
          "height": 285
        },
        "outputId": "0350d5d6-bf24-4c50-ba44-fc0a33767204"
      },
      "source": [
        "import matplotlib.pyplot as plt  \n",
        "\n",
        "profit = data ['total_profit'].tolist()\n",
        "month  = data ['month_number'].tolist()\n",
        "plt.plot(month, profit, label = 'Total Profit')\n",
        "plt.xlabel('Month number')\n",
        "plt.ylabel('Total Profit')\n",
        "plt.show()"
      ],
      "execution_count": null,
      "outputs": [
        {
          "output_type": "display_data",
          "data": {
            "image/png": "[encoded data removed]",
            "text/plain": [
              "<Figure size 432x288 with 1 Axes>"
            ]
          },
          "metadata": {
            "tags": []
          }
        }
      ]
    },
    {
      "cell_type": "code",
      "metadata": {
        "colab": {
          "base_uri": "https://localhost:8080/",
          "height": 203
        },
        "id": "XxvuylfQeknx",
        "outputId": "d204a881-8fad-4cf3-e1eb-fb069b65468e"
      },
      "source": [
        "data.head()"
      ],
      "execution_count": null,
      "outputs": [
        {
          "output_type": "execute_result",
          "data": {
            "text/html": [
              "<div>\n",
              "<style scoped>\n",
              "    .dataframe tbody tr th:only-of-type {\n",
              "        vertical-align: middle;\n",
              "    }\n",
              "\n",
              "    .dataframe tbody tr th {\n",
              "        vertical-align: top;\n",
              "    }\n",
              "\n",
              "    .dataframe thead th {\n",
              "        text-align: right;\n",
              "    }\n",
              "</style>\n",
              "<table border=\"1\" class=\"dataframe\">\n",
              "  <thead>\n",
              "    <tr style=\"text-align: right;\">\n",
              "      <th></th>\n",
              "      <th>month_number</th>\n",
              "      <th>facecream</th>\n",
              "      <th>facewash</th>\n",
              "      <th>toothpaste</th>\n",
              "      <th>bathingsoap</th>\n",
              "      <th>shampoo</th>\n",
              "      <th>moisturizer</th>\n",
              "      <th>total_units</th>\n",
              "      <th>total_profit</th>\n",
              "    </tr>\n",
              "  </thead>\n",
              "  <tbody>\n",
              "    <tr>\n",
              "      <th>0</th>\n",
              "      <td>1</td>\n",
              "      <td>2500</td>\n",
              "      <td>1500</td>\n",
              "      <td>5200</td>\n",
              "      <td>9200</td>\n",
              "      <td>1200</td>\n",
              "      <td>1500</td>\n",
              "      <td>21100</td>\n",
              "      <td>211000</td>\n",
              "    </tr>\n",
              "    <tr>\n",
              "      <th>1</th>\n",
              "      <td>2</td>\n",
              "      <td>2630</td>\n",
              "      <td>1200</td>\n",
              "      <td>5100</td>\n",
              "      <td>6100</td>\n",
              "      <td>2100</td>\n",
              "      <td>1200</td>\n",
              "      <td>18330</td>\n",
              "      <td>183300</td>\n",
              "    </tr>\n",
              "    <tr>\n",
              "      <th>2</th>\n",
              "      <td>3</td>\n",
              "      <td>2140</td>\n",
              "      <td>1340</td>\n",
              "      <td>4550</td>\n",
              "      <td>9550</td>\n",
              "      <td>3550</td>\n",
              "      <td>1340</td>\n",
              "      <td>22470</td>\n",
              "      <td>224700</td>\n",
              "    </tr>\n",
              "    <tr>\n",
              "      <th>3</th>\n",
              "      <td>4</td>\n",
              "      <td>3400</td>\n",
              "      <td>1130</td>\n",
              "      <td>5870</td>\n",
              "      <td>8870</td>\n",
              "      <td>1870</td>\n",
              "      <td>1130</td>\n",
              "      <td>22270</td>\n",
              "      <td>222700</td>\n",
              "    </tr>\n",
              "    <tr>\n",
              "      <th>4</th>\n",
              "      <td>5</td>\n",
              "      <td>3600</td>\n",
              "      <td>1740</td>\n",
              "      <td>4560</td>\n",
              "      <td>7760</td>\n",
              "      <td>1560</td>\n",
              "      <td>1740</td>\n",
              "      <td>20960</td>\n",
              "      <td>209600</td>\n",
              "    </tr>\n",
              "  </tbody>\n",
              "</table>\n",
              "</div>"
            ],
            "text/plain": [
              "   month_number  facecream  facewash  ...  moisturizer  total_units  total_profit\n",
              "0             1       2500      1500  ...         1500        21100        211000\n",
              "1             2       2630      1200  ...         1200        18330        183300\n",
              "2             3       2140      1340  ...         1340        22470        224700\n",
              "3             4       3400      1130  ...         1130        22270        222700\n",
              "4             5       3600      1740  ...         1740        20960        209600\n",
              "\n",
              "[5 rows x 9 columns]"
            ]
          },
          "metadata": {
            "tags": []
          },
          "execution_count": 44
        }
      ]
    },
    {
      "cell_type": "markdown",
      "metadata": {
        "id": "fo_rQYQljnvR"
      },
      "source": [
        "2. Read all product sales data and show it using a multi line plot. Display the number of units sold per month for each product using multi line plots. (i.e., Separate Plotline for each product )."
      ]
    },
    {
      "cell_type": "code",
      "metadata": {
        "colab": {
          "base_uri": "https://localhost:8080/",
          "height": 301
        },
        "id": "5idD-A2eewku",
        "outputId": "a6626941-1b8b-4fa8-8e07-775fb6da723b"
      },
      "source": [
        "month  = data ['month_number'].tolist()\n",
        "facecream   = data ['facecream'].tolist()\n",
        "facewash  = data ['facewash'].tolist()\n",
        "toothpaste = data ['toothpaste'].tolist()\n",
        "bathingsoap   = data ['bathingsoap'].tolist()\n",
        "shampoo   = data ['shampoo'].tolist()\n",
        "moisturizer = data ['moisturizer'].tolist()\n",
        "\n",
        "plt.plot(month, facecream,   label = 'Face cream Sales Data', marker='.', linewidth=3)\n",
        "plt.plot(month, facewash,   label = 'Face Wash Sales Data',  marker='.', linewidth=3)\n",
        "plt.plot(month, toothpaste, label = 'ToothPaste Sales Data', marker='.', linewidth=3)\n",
        "plt.plot(month, bathingsoap, label = 'ToothPaste Sales Data', marker='.', linewidth=3)\n",
        "plt.plot(month, shampoo, label = 'ToothPaste Sales Data', marker='.', linewidth=3)\n",
        "plt.plot(month, moisturizer, label = 'ToothPaste Sales Data', marker='.', linewidth=3)\n",
        "\n",
        "plt.xlabel('Month Number')\n",
        "plt.ylabel('Sales units in number')\n",
        "plt.legend(loc='upper left')\n",
        "plt.xticks(month)\n",
        "plt.yticks([1000, 2000, 4000, 6000, 8000, 10000, 12000, 15000, 18000])\n",
        "plt.title('Sales data')\n",
        "plt.show()"
      ],
      "execution_count": null,
      "outputs": [
        {
          "output_type": "display_data",
          "data": {
            "image/png": "[encoded data removed]",
            "text/plain": [
              "<Figure size 432x288 with 1 Axes>"
            ]
          },
          "metadata": {
            "tags": []
          }
        }
      ]
    },
    {
      "cell_type": "markdown",
      "metadata": {
        "id": "J13bEIALlgwa"
      },
      "source": [
        "3. Plot a scatter plot between no. of month and toothpaste units sold."
      ]
    },
    {
      "cell_type": "code",
      "metadata": {
        "colab": {
          "base_uri": "https://localhost:8080/",
          "height": 285
        },
        "id": "EGNVuld2j3AX",
        "outputId": "570b2d96-e7f8-464c-9c17-3b585abadddf"
      },
      "source": [
        "month  = data ['month_number'].tolist()\n",
        "toothpaste = data ['toothpaste'].tolist()\n",
        "plt.scatter(month, toothpaste, label = 'Tooth paste Sales data')\n",
        "plt.xlabel('Month Number')\n",
        "plt.ylabel('Number of toothpastes sold')\n",
        "plt.xticks(month)\n",
        "plt.grid(True, linewidth= 1, linestyle= \"--\")\n",
        "plt.show()"
      ],
      "execution_count": null,
      "outputs": [
        {
          "output_type": "display_data",
          "data": {
            "image/png": "[encoded data removed]",
            "text/plain": [
              "<Figure size 432x288 with 1 Axes>"
            ]
          },
          "metadata": {
            "tags": []
          }
        }
      ]
    },
    {
      "cell_type": "markdown",
      "metadata": {
        "id": "gaIaYDwVmgb8"
      },
      "source": [
        "4. Plot a bar chart which displays the number of units sold per month for face cream and face wash. Add a separate bar for each product in the same chart.(with grid lines)"
      ]
    },
    {
      "cell_type": "code",
      "metadata": {
        "colab": {
          "base_uri": "https://localhost:8080/",
          "height": 301
        },
        "id": "GjCZoqvBlf_G",
        "outputId": "79ff64c9-f6dc-421d-cfe7-032b757a1dd2"
      },
      "source": [
        "month  = data ['month_number'].tolist()\n",
        "facecream   = data ['facecream'].tolist()\n",
        "facewash  = data ['facewash'].tolist()\n",
        "\n",
        "plt.bar([a-0.5 for a in month], facecream, width= 0.5, label = 'facecream sales', align='edge')\n",
        "plt.bar([a+0.5 for a in month], facewash, width= -0.5, label = 'facewash sales', align='edge')\n",
        "plt.xlabel('Month Number')\n",
        "plt.ylabel('Sales units in number')\n",
        "plt.legend(loc='upper right')\n",
        "plt.title(' Sales data')\n",
        "plt.xticks(month)\n",
        "plt.grid(True, linewidth= 1)\n",
        "plt.title('facewash and facecream sales')\n",
        "plt.show()"
      ],
      "execution_count": null,
      "outputs": [
        {
          "output_type": "display_data",
          "data": {
            "image/png": "[encoded data removed]",
            "text/plain": [
              "<Figure size 432x288 with 1 Axes>"
            ]
          },
          "metadata": {
            "tags": []
          }
        }
      ]
    },
    {
      "cell_type": "markdown",
      "metadata": {
        "id": "0Qeys3joonr-"
      },
      "source": [
        "5. Plot the total proﬁt of each month and show it using the histogram to see the most common proﬁt ranges."
      ]
    },
    {
      "cell_type": "code",
      "metadata": {
        "colab": {
          "base_uri": "https://localhost:8080/",
          "height": 301
        },
        "id": "wMn0hAOVmef3",
        "outputId": "68891953-34dd-48c9-ffdd-4daf5c0f6183"
      },
      "source": [
        "profit = data ['total_profit'].tolist()\n",
        "profit_range = [175000, 200000, 225000, 250000, 300000, 325000, 350000]\n",
        "plt.hist(profit, profit_range, label = 'Profit data')\n",
        "plt.xlabel('profit range in dollar')\n",
        "plt.ylabel('Actual Profit in dollar')\n",
        "plt.legend(loc='upper right')\n",
        "plt.xticks(profit_range)\n",
        "plt.title('common proﬁt ranges')\n",
        "plt.show()"
      ],
      "execution_count": null,
      "outputs": [
        {
          "output_type": "display_data",
          "data": {
            "image/png": "[encoded data removed]",
            "text/plain": [
              "<Figure size 432x288 with 1 Axes>"
            ]
          },
          "metadata": {
            "tags": []
          }
        }
      ]
    },
    {
      "cell_type": "markdown",
      "metadata": {
        "id": "FnpyLXGmDTmj"
      },
      "source": [
        "6. Plot a pie chart for total sales data."
      ]
    },
    {
      "cell_type": "code",
      "metadata": {
        "colab": {
          "base_uri": "https://localhost:8080/",
          "height": 264
        },
        "id": "bJGZ8u03AGfv",
        "outputId": "8a96009d-2153-4631-b9a2-eb3a2f36a773"
      },
      "source": [
        "monthList  = data ['month_number'].tolist()\n",
        "plt.title('Total Sales data')\n",
        "\n",
        "labels = ['Facecream', 'Fasewash', 'Toothpaste', 'Bathing soap', 'Shampoo', 'Moisturizer']\n",
        "sales  = [data ['facecream'].sum(), data ['facewash'].sum(), data ['toothpaste'].sum(), \n",
        "         data ['bathingsoap'].sum(), data ['shampoo'].sum(), data ['moisturizer'].sum()]\n",
        "plt.axis(\"equal\")\n",
        "plt.pie(sales, labels=labels)\n",
        "plt.legend(loc='lower left')\n",
        "plt.show()"
      ],
      "execution_count": null,
      "outputs": [
        {
          "output_type": "display_data",
          "data": {
            "image/png": "[encoded data removed]",
            "text/plain": [
              "<Figure size 432x288 with 1 Axes>"
            ]
          },
          "metadata": {
            "tags": []
          }
        }
      ]
    },
    {
      "cell_type": "code",
      "metadata": {
        "colab": {
          "base_uri": "https://localhost:8080/",
          "height": 301
        },
        "id": "giQZRGB7FByF",
        "outputId": "4a4c74a2-e346-4036-94c8-b11868aa981f"
      },
      "source": [
        "month  = data ['month_number'].tolist()\n",
        "facecream  = data ['facecream'].tolist()\n",
        "facewash   = data ['facewash'].tolist()\n",
        "toothpaste = data ['toothpaste'].tolist()\n",
        "bathingsoap   = data ['bathingsoap'].tolist()\n",
        "shampoo   = data ['shampoo'].tolist()\n",
        "moisturizer = data ['moisturizer'].tolist()\n",
        "\n",
        "plt.plot([],[], label='face Cream', linewidth=5)\n",
        "plt.plot([],[], label='Face wash', linewidth=5)\n",
        "plt.plot([],[], label='Tooth paste', linewidth=5)\n",
        "plt.plot([],[], label='Bathing soap', linewidth=5)\n",
        "plt.plot([],[], label='Shampoo', linewidth=5)\n",
        "plt.plot([],[], label='Moisturizer', linewidth=5)\n",
        "\n",
        "plt.stackplot(month, facecream, facewash, toothpaste,bathingsoap, shampoo, moisturizer)\n",
        "\n",
        "plt.xlabel('Month Number')\n",
        "plt.ylabel('Sales unints in Number')\n",
        "plt.title('Alll product sales data using stack plot')\n",
        "plt.legend(loc='upper right')\n",
        "plt.show()"
      ],
      "execution_count": null,
      "outputs": [
        {
          "output_type": "display_data",
          "data": {
            "image/png": "[encoded data removed]",
            "text/plain": [
              "<Figure size 432x288 with 1 Axes>"
            ]
          },
          "metadata": {
            "tags": []
          }
        }
      ]
    },
    {
      "cell_type": "markdown",
      "metadata": {
        "id": "QKEE6Eq2HM2B"
      },
      "source": [
        "7. Write about evaluation report and types of it."
      ]
    },
    {
      "cell_type": "markdown",
      "metadata": {
        "id": "UIBClpODfIys"
      },
      "source": [
        "**Evaluation report** is a paper that examines whether a product, service, or process is working, according to a set of standards. The purpose of the paper is to evaluate a product, service, or process.\n",
        "\n",
        "**Types of evaluation reports :**\n",
        "Formative evaluation\n",
        "This is generally conducted before the project implementation phase. But depending on the nature of the project, it may also continue through the implementation stage. Its main purpose is to generate baseline data to investigate the need for the project, raise awareness of the initial project status, identify areas of concern and provide recommendations for project implementation and compliance.\n",
        "\n",
        "**Process evaluation**\n",
        "It is conducted as soon as the project implementation stage begins. It assesses whether the project activities have been executed as intended and resulted in certain outputs. Process evaluation is useful in identifying the shortcomings of a project while the project is still ongoing to make the necessary improvements.\n",
        "\n",
        "**Outcome evaluation**\n",
        "This type of evaluation is conducted once the project activities have been implemented. It measures the immediate effects or outcomes of the activities in the target population and helps to make improvements to increase the effectiveness of the project.\n",
        "\n",
        "**Summative evaluation**\n",
        "This occurs immediately after project conclusion to assess project efficacy and the instant changes manifested by its interventions. Summative evaluation compares the actual outcome data with baseline data to determine whether the project was successful in producing the intended outcomes or bringing about the intended benefits to the target population. \n",
        "\n",
        "**Impact evaluation**\n",
        "Impact evaluation assesses the long term impact or behavioral changes as a result of a project and its interventions on the target community or population. It assesses the degree to which the project meets the ultimate goal, rather than focusing on its management and delivery. \n",
        "\n",
        "**Real-time evaluation**\n",
        "Real-time evaluation is undertaken during the project implementation phase. It is often conducted during emergency scenarios, where immediate feedback for modifications is required to improve ongoing implementation. \n",
        "\n"
      ]
    },
    {
      "cell_type": "code",
      "metadata": {
        "id": "n4brp4N2GoFf"
      },
      "source": [
        ""
      ],
      "execution_count": null,
      "outputs": []
    }
  ]
}